{
  "nbformat": 4,
  "nbformat_minor": 0,
  "metadata": {
    "colab": {
      "provenance": [],
      "toc_visible": true
    },
    "kernelspec": {
      "name": "python3",
      "display_name": "Python 3"
    },
    "language_info": {
      "name": "python"
    }
  },
  "cells": [
    {
      "cell_type": "markdown",
      "source": [
        "#Lab Instructions - session 0\n",
        "Introduction to Python"
      ],
      "metadata": {
        "id": "iVTTmo4ssigA"
      }
    },
    {
      "cell_type": "code",
      "source": [
        "# @title Install and import feedback gadget\n",
        "\n",
        "!pip3 install vibecheck datatops --quiet\n",
        "\n",
        "from vibecheck import DatatopsContentReviewContainer\n",
        "def content_review(notebook_section: str):\n",
        "    return DatatopsContentReviewContainer(\n",
        "        \"\",  # No text prompt\n",
        "        notebook_section,\n",
        "        {\n",
        "            \"url\": \"https://pmyvdlilci.execute-api.us-east-1.amazonaws.com/klab\",\n",
        "            \"name\": \"neuromatch-precourse\",\n",
        "            \"user_key\": \"8zxfvwxw\",\n",
        "        },\n",
        "    ).render()\n",
        "\n",
        "\n",
        "feedback_prefix = \"W0D1_T1\""
      ],
      "metadata": {
        "colab": {
          "base_uri": "https://localhost:8080/"
        },
        "cellView": "form",
        "id": "7hN_pDsV3882",
        "outputId": "aef85a6f-7488-4813-d92c-39205f4778cb"
      },
      "execution_count": null,
      "outputs": [
        {
          "output_type": "stream",
          "name": "stdout",
          "text": [
            "  Preparing metadata (setup.py) ... \u001b[?25l\u001b[?25hdone\n",
            "  Preparing metadata (setup.py) ... \u001b[?25l\u001b[?25hdone\n",
            "\u001b[2K     \u001b[90m━━━━━━━━━━━━━━━━━━━━━━━━━━━━━━━━━━━━━━━━\u001b[0m \u001b[32m1.6/1.6 MB\u001b[0m \u001b[31m9.0 MB/s\u001b[0m eta \u001b[36m0:00:00\u001b[0m\n",
            "\u001b[?25h  Building wheel for vibecheck (setup.py) ... \u001b[?25l\u001b[?25hdone\n",
            "  Building wheel for datatops (setup.py) ... \u001b[?25l\u001b[?25hdone\n"
          ]
        }
      ]
    },
    {
      "cell_type": "markdown",
      "source": [
        "## Integer, float, string, and boolean types"
      ],
      "metadata": {
        "id": "elNfPDm_0dnZ"
      }
    },
    {
      "cell_type": "code",
      "execution_count": null,
      "metadata": {
        "colab": {
          "base_uri": "https://localhost:8080/"
        },
        "id": "8lrCPHYKveFE",
        "outputId": "18345456-ced0-4a83-ca93-684c1d40699e"
      },
      "outputs": [
        {
          "output_type": "execute_result",
          "data": {
            "text/plain": [
              "bool"
            ]
          },
          "metadata": {},
          "execution_count": 1
        }
      ],
      "source": [
        "i = 1\n",
        "f = 1.1\n",
        "s = \"salam!\"\n",
        "t = True\n",
        "type(i)\n",
        "type(f)\n",
        "type(s)\n",
        "type(t)"
      ]
    },
    {
      "cell_type": "code",
      "source": [
        "import numpy as np\n",
        "B = np.array([[[1,2],[3,4]],[[5,6],[7,8]], [[9,10],[11,12]]])\n",
        "A = np.array([[1,2,3,4], [5,6,7,8], [9,10,11,12]])\n",
        "print(A.shape)\n",
        "print(A)\n",
        "print(A[1,:])\n"
      ],
      "metadata": {
        "colab": {
          "base_uri": "https://localhost:8080/"
        },
        "id": "N91XEJqkgUss",
        "outputId": "c2d94db1-1a6c-4d20-f59e-b4de240c9ed8"
      },
      "execution_count": null,
      "outputs": [
        {
          "output_type": "stream",
          "name": "stdout",
          "text": [
            "(3, 4)\n",
            "[[ 1  2  3  4]\n",
            " [ 5  6  7  8]\n",
            " [ 9 10 11 12]]\n",
            "[5 6 7 8]\n"
          ]
        }
      ]
    },
    {
      "cell_type": "markdown",
      "source": [
        "##Conversion between types\n"
      ],
      "metadata": {
        "id": "NUHy0fd31v8W"
      }
    },
    {
      "cell_type": "code",
      "source": [
        "print(type(str(i)))\n",
        "print(type(str(f)))\n",
        "print(type(int(f)))\n",
        "print(int(f))\n",
        "print(type(int('123')))\n",
        "print(type(float(i)))\n",
        "print(type(float('1.1')))\n",
        "print(type(int(t)))\n",
        "print(type(int(False)))"
      ],
      "metadata": {
        "id": "AcJuIIDx1yO1",
        "colab": {
          "base_uri": "https://localhost:8080/"
        },
        "outputId": "ed7258e2-6180-4cc0-dbb4-74e21354661c"
      },
      "execution_count": null,
      "outputs": [
        {
          "output_type": "stream",
          "name": "stdout",
          "text": [
            "<class 'str'>\n",
            "<class 'str'>\n",
            "<class 'int'>\n",
            "1\n",
            "<class 'int'>\n",
            "<class 'float'>\n",
            "<class 'float'>\n",
            "<class 'int'>\n",
            "<class 'int'>\n"
          ]
        }
      ]
    },
    {
      "cell_type": "markdown",
      "source": [
        "##Basic operations"
      ],
      "metadata": {
        "id": "mV38wb7o4ur8"
      }
    },
    {
      "cell_type": "code",
      "source": [
        "a = 3\n",
        "b = 10\n",
        "print(a*b)\n",
        "print(a+b)\n",
        "print(b**a)\n",
        "c,d = 1,a\n",
        "print(c,d)\n",
        "a,b = b,a\n",
        "print(a,b)\n",
        "a,b = a-b,a+b\n",
        "print(a,b)\n",
        "print(5 / 2)\n",
        "print(5 / 2.0)\n",
        "print(5 // 2)\n",
        "print(5 // 2.0)\n",
        "\n",
        "k = a**2+b**2\n",
        "print(k)\n",
        "print(a)\n",
        "a *= 10\n",
        "print(a)\n",
        "a -= 2\n",
        "print(a)\n",
        "a = 20\n",
        "b = 30\n",
        "print(a,b)\n",
        "print(a == b)\n",
        "print(a < b)\n",
        "print(a >= b - 5)\n",
        "print(a < -5 or a > 5)\n",
        "print(a < b and a == 20)\n",
        "not (a < b and a == 20)"
      ],
      "metadata": {
        "colab": {
          "base_uri": "https://localhost:8080/"
        },
        "id": "WRHGphpQ43ea",
        "outputId": "97ae1311-b82f-4240-bc43-58bc80254549"
      },
      "execution_count": null,
      "outputs": [
        {
          "output_type": "stream",
          "name": "stdout",
          "text": [
            "30\n",
            "13\n",
            "1000\n",
            "1 3\n",
            "10 3\n",
            "7 13\n",
            "2.5\n",
            "2.5\n",
            "2\n",
            "2.0\n",
            "218\n",
            "7\n",
            "70\n",
            "68\n",
            "20 30\n",
            "False\n",
            "True\n",
            "False\n",
            "True\n",
            "True\n"
          ]
        },
        {
          "output_type": "execute_result",
          "data": {
            "text/plain": [
              "False"
            ]
          },
          "metadata": {},
          "execution_count": 4
        }
      ]
    },
    {
      "cell_type": "markdown",
      "source": [
        "##String operations"
      ],
      "metadata": {
        "id": "w5AA1pG25d4-"
      }
    },
    {
      "cell_type": "code",
      "source": [
        "s = 'salam'\n",
        "s2 = \"salam\"\n",
        "s3 = 'its a nice day'\n",
        "s3 = \"its a nice day\"\n",
        "print(s == s2)\n",
        "print(len(s))\n",
        "r = '123'\n",
        "print(s+r)\n",
        "t = s + ' ' + r\n",
        "print(t)\n",
        "print(s*8)\n",
        "s = 'jenabkhan'\n",
        "print(s[0])\n",
        "s[1]\n",
        "s[2]\n",
        "s[-1]\n",
        "s[-3]\n",
        "print(s[1:4])\n",
        "print(s[2:])\n",
        "print(s[:4])\n",
        "s[:-1]\n",
        "\n",
        "print(s[1:7])\n",
        "print(s[1:7:2])\n",
        "i = 1\n",
        "d = 1.1\n",
        "s = \"Salam\"\n",
        "i = 212\n",
        "print(\"num = %d\"%i)\n",
        "f = 12.12\n",
        "s1 = \"%f %i %s\"%(f,i,s)\n",
        "print(s1)\n",
        "print(\"float = %f, integer = %i, and string = %s.\"%(d,i,s))\n",
        "print(\"float={}, integer={}, and string={}.\".format(d,i,s))\n",
        "print(f\"float={d}, integer={i}, and string={s}.\")\n",
        "print(f\"float={d*2}, integer={20-4*i}, and string={s+s}.\")"
      ],
      "metadata": {
        "colab": {
          "base_uri": "https://localhost:8080/"
        },
        "id": "vbCy-ouu8jdb",
        "outputId": "1fe98e7d-2e5c-4ab4-914b-1d6a0c5e3f57"
      },
      "execution_count": null,
      "outputs": [
        {
          "output_type": "stream",
          "name": "stdout",
          "text": [
            "True\n",
            "5\n",
            "salam123\n",
            "salam 123\n",
            "salamsalamsalamsalamsalamsalamsalamsalam\n",
            "j\n",
            "ena\n",
            "nabkhan\n",
            "jena\n",
            "enabkh\n",
            "eak\n",
            "num = 212\n",
            "12.120000 212 Salam\n",
            "float = 1.100000, integer = 212, and string = Salam.\n",
            "float=1.1, integer=212, and string=Salam.\n",
            "float={d}, integer={i}, and string={s}.\n",
            "float=2.2, integer=-828, and string=SalamSalam.\n"
          ]
        }
      ]
    },
    {
      "cell_type": "markdown",
      "source": [
        "## Tuples"
      ],
      "metadata": {
        "id": "Bc-3MgoZ_UBk"
      }
    },
    {
      "cell_type": "code",
      "source": [
        "t = (1,2,4)\n",
        "p = (2, 'abc', 13.2)\n",
        "print(p)\n",
        "print(p[0])\n",
        "p[1]\n",
        "p[-1]\n",
        "len(p)\n",
        "print(p + (10,20,30))\n",
        "print(t+p)\n",
        "print(p*3)\n",
        "#p[1] = 100 # error\n",
        "a,b,c = p\n",
        "print(a,b,c)"
      ],
      "metadata": {
        "colab": {
          "base_uri": "https://localhost:8080/"
        },
        "id": "Mvz6e02RXGTo",
        "outputId": "8bf3a22a-7d36-4fb7-9da0-e0aba544942a"
      },
      "execution_count": null,
      "outputs": [
        {
          "output_type": "stream",
          "name": "stdout",
          "text": [
            "(2, 'abc', 13.2)\n",
            "2\n",
            "(2, 'abc', 13.2, 10, 20, 30)\n",
            "(1, 2, 4, 2, 'abc', 13.2)\n",
            "(2, 'abc', 13.2, 2, 'abc', 13.2, 2, 'abc', 13.2)\n",
            "2 abc 13.2\n"
          ]
        }
      ]
    },
    {
      "cell_type": "markdown",
      "source": [
        "## Lists"
      ],
      "metadata": {
        "id": "9NfUEQP8YYsd"
      }
    },
    {
      "cell_type": "code",
      "source": [
        "l = [1,2,3,4]\n",
        "print(l)\n",
        "l = [i,f,s,2]\n",
        "l\n",
        "l = l + [True]\n",
        "l\n",
        "l = l + [1,3,45]\n",
        "print(l)\n",
        "print(len(l))\n",
        "l.append('hi')\n",
        "print(l)\n",
        "l.insert(0,100)\n",
        "print(l)\n",
        "l.insert(2,111)\n",
        "print(l)\n",
        "print(111 in l)\n",
        "print(112 in l)\n",
        "print(112 not in l)\n",
        "l.extend(['a', 'b', 'c'])\n",
        "print(l)\n",
        "l.pop()\n",
        "print(l)\n",
        "k = l.pop(2)\n",
        "print(l)\n",
        "print(k)\n",
        "l=[100,101,102,103,104,105,106,107,108,109,110,111,112]\n",
        "l[0]\n",
        "l[1]\n",
        "l[5]\n",
        "l[-1]\n",
        "l[-2]\n",
        "l[1:5]\n",
        "print(l[10:1])\n",
        "print(l[1:10])\n",
        "print(l[1:10:2])\n",
        "print(l[::3])\n",
        "print(l[10:1])\n",
        "print(l[10:1:-1])\n",
        "print(l[::-1])\n",
        "104 in l\n",
        "130 in l"
      ],
      "metadata": {
        "id": "W5NR-RMbYZ0s",
        "colab": {
          "base_uri": "https://localhost:8080/"
        },
        "outputId": "f3807c5b-b3f0-4125-d3d9-10e68e832cb6"
      },
      "execution_count": null,
      "outputs": [
        {
          "output_type": "stream",
          "name": "stdout",
          "text": [
            "[1, 2, 3, 4]\n",
            "[1, 1.1, 'salam!', 2, True, 1, 3, 45]\n",
            "8\n",
            "[1, 1.1, 'salam!', 2, True, 1, 3, 45, 'hi']\n",
            "[100, 1, 1.1, 'salam!', 2, True, 1, 3, 45, 'hi']\n",
            "[100, 1, 111, 1.1, 'salam!', 2, True, 1, 3, 45, 'hi']\n",
            "True\n",
            "False\n",
            "True\n",
            "[100, 1, 111, 1.1, 'salam!', 2, True, 1, 3, 45, 'hi', 'a', 'b', 'c']\n",
            "[100, 1, 111, 1.1, 'salam!', 2, True, 1, 3, 45, 'hi', 'a', 'b']\n",
            "[100, 1, 1.1, 'salam!', 2, True, 1, 3, 45, 'hi', 'a', 'b']\n",
            "111\n",
            "[]\n",
            "[101, 102, 103, 104, 105, 106, 107, 108, 109]\n",
            "[101, 103, 105, 107, 109]\n",
            "[100, 103, 106, 109, 112]\n",
            "[]\n",
            "[110, 109, 108, 107, 106, 105, 104, 103, 102]\n",
            "[112, 111, 110, 109, 108, 107, 106, 105, 104, 103, 102, 101, 100]\n"
          ]
        },
        {
          "output_type": "execute_result",
          "data": {
            "text/plain": [
              "False"
            ]
          },
          "metadata": {},
          "execution_count": 20
        }
      ]
    },
    {
      "cell_type": "code",
      "source": [
        "l = [4,1,7,2,0]\n",
        "l[4] = 100\n",
        "print(l)\n",
        "l[1] = 100\n",
        "print(l)\n",
        "l.reverse()\n",
        "print(l)\n",
        "l.sort()\n",
        "print(l)\n",
        "l = [4,1,7,2,0]\n",
        "t = l # deep copy\n",
        "print('.....\\n', t)\n",
        "l[1] = 100\n",
        "print(l)  # beacuase list(l) is a pointer\n",
        "print(t)\n",
        "l = [4,1,7,2,0]\n",
        "t = l[:] #shallow copy\n",
        "print('.....\\n', t)\n",
        "l[1] = 100\n",
        "print(l)\n",
        "print(t)\n",
        "e = enumerate(l)\n",
        "print(e)\n",
        "print(list(e))\n",
        "z = zip(l,t)\n",
        "print(z)\n",
        "print(list(z))"
      ],
      "metadata": {
        "colab": {
          "base_uri": "https://localhost:8080/"
        },
        "id": "o6MlHIbo7dJT",
        "outputId": "a707dd3b-1d1c-4d23-9584-d5beca958a60"
      },
      "execution_count": null,
      "outputs": [
        {
          "output_type": "stream",
          "name": "stdout",
          "text": [
            "[4, 1, 7, 2, 100]\n",
            "[4, 100, 7, 2, 100]\n",
            "[100, 2, 7, 100, 4]\n",
            "[2, 4, 7, 100, 100]\n",
            ".....\n",
            " [4, 1, 7, 2, 0]\n",
            "[4, 100, 7, 2, 0]\n",
            "[4, 100, 7, 2, 0]\n",
            ".....\n",
            " [4, 1, 7, 2, 0]\n",
            "[4, 100, 7, 2, 0]\n",
            "[4, 1, 7, 2, 0]\n",
            "<enumerate object at 0x7a9e46758f80>\n",
            "[(0, 4), (1, 100), (2, 7), (3, 2), (4, 0)]\n",
            "<zip object at 0x7a9e6050c680>\n",
            "[(4, 4), (100, 1), (7, 7), (2, 2), (0, 0)]\n"
          ]
        }
      ]
    },
    {
      "cell_type": "markdown",
      "source": [
        "## The range function"
      ],
      "metadata": {
        "id": "Z59g2Aup-SOU"
      }
    },
    {
      "cell_type": "code",
      "source": [
        "r1 = range(10)\n",
        "r2 = range(2,10)\n",
        "r3 = range(2,20,3)\n",
        "r4 = range(20,2,-1)\n",
        "print(list(r1))\n",
        "print(list(r2))\n",
        "print(list(r3))\n",
        "print(list(r4))\n",
        "print(tuple(r1))"
      ],
      "metadata": {
        "colab": {
          "base_uri": "https://localhost:8080/"
        },
        "id": "4CqvNw7R-VyT",
        "outputId": "6279c2bc-2c8a-4d1a-b22d-bf09fefda10e"
      },
      "execution_count": null,
      "outputs": [
        {
          "output_type": "stream",
          "name": "stdout",
          "text": [
            "[0, 1, 2, 3, 4, 5, 6, 7, 8, 9]\n",
            "[2, 3, 4, 5, 6, 7, 8, 9]\n",
            "[2, 5, 8, 11, 14, 17]\n",
            "[20, 19, 18, 17, 16, 15, 14, 13, 12, 11, 10, 9, 8, 7, 6, 5, 4, 3]\n",
            "(0, 1, 2, 3, 4, 5, 6, 7, 8, 9)\n"
          ]
        }
      ]
    },
    {
      "cell_type": "markdown",
      "source": [
        "## Dictionaries"
      ],
      "metadata": {
        "id": "USroR9Eb_3Ug"
      }
    },
    {
      "cell_type": "code",
      "source": [
        "d = {1: 'Salam', 8: 1.4}\n",
        "print(d[1])\n",
        "print(d[8])\n",
        "##print(d[2])\n",
        "d[2] = 444\n",
        "print(d)\n",
        "print(d[2])\n",
        "d['K'] = 99\n",
        "d['Ali'] = 'passwd'\n",
        "print(d['Ali'])\n",
        "print(d)\n",
        "print(d.keys())\n",
        "print(d.values())\n",
        "print(d.items())\n",
        "print(type(d.items()))\n",
        "print(d)\n",
        "del d['K']\n",
        "print(d)"
      ],
      "metadata": {
        "colab": {
          "base_uri": "https://localhost:8080/"
        },
        "id": "fwKFHA8tB3R8",
        "outputId": "ec79ca47-a80a-41c6-ca7a-c80f69cfd152"
      },
      "execution_count": null,
      "outputs": [
        {
          "output_type": "stream",
          "name": "stdout",
          "text": [
            "Salam\n",
            "1.4\n",
            "{1: 'Salam', 8: 1.4, 2: 444}\n",
            "444\n",
            "passwd\n",
            "{1: 'Salam', 8: 1.4, 2: 444, 'K': 99, 'Ali': 'passwd'}\n",
            "dict_keys([1, 8, 2, 'K', 'Ali'])\n",
            "dict_values(['Salam', 1.4, 444, 99, 'passwd'])\n",
            "dict_items([(1, 'Salam'), (8, 1.4), (2, 444), ('K', 99), ('Ali', 'passwd')])\n",
            "<class 'dict_items'>\n",
            "{1: 'Salam', 8: 1.4, 2: 444, 'K': 99, 'Ali': 'passwd'}\n",
            "{1: 'Salam', 8: 1.4, 2: 444, 'Ali': 'passwd'}\n"
          ]
        }
      ]
    },
    {
      "cell_type": "markdown",
      "source": [
        "## Decision Making"
      ],
      "metadata": {
        "id": "Vd4l9biZBoVR"
      }
    },
    {
      "cell_type": "code",
      "source": [
        "i = 12\n",
        "b = 1\n",
        "if i == 12:\n",
        "  b = 2\n",
        "print(b)\n",
        "i = 12\n",
        "if i == 10:\n",
        "  print('YES')\n",
        "  print('i equals 10')\n",
        "else:\n",
        "  print('NO')\n",
        "  print('i is not equal to 10')\n",
        "i = 11\n",
        "b = 'salam'\n",
        "if i == 12:\n",
        "  print('Twelve')\n",
        "elif i == 11 and b == 'hi':\n",
        "  print('Eleven-hi')\n",
        "elif i > 10 and b == 'salam':\n",
        "  print('SALAAAMM!!')\n",
        "else:\n",
        "  print('None')"
      ],
      "metadata": {
        "colab": {
          "base_uri": "https://localhost:8080/"
        },
        "id": "X03RH7bYBqEB",
        "outputId": "15a148dd-cc7e-4200-c7b0-6320f1856ee7"
      },
      "execution_count": null,
      "outputs": [
        {
          "output_type": "stream",
          "name": "stdout",
          "text": [
            "2\n",
            "NO\n",
            "i is not equal to 10\n",
            "SALAAAMM!!\n"
          ]
        }
      ]
    },
    {
      "cell_type": "markdown",
      "source": [
        "## the While loop"
      ],
      "metadata": {
        "id": "5HeRRlDuCNSn"
      }
    },
    {
      "cell_type": "code",
      "source": [
        "i = 10\n",
        "while i > 0:\n",
        "  print(i*i)\n",
        "  i =- 2\n",
        "print(i)\n"
      ],
      "metadata": {
        "colab": {
          "base_uri": "https://localhost:8080/"
        },
        "id": "e29ZSd4KCORn",
        "outputId": "3b504bb1-1781-492b-da1e-d4f9e828c723"
      },
      "execution_count": null,
      "outputs": [
        {
          "output_type": "stream",
          "name": "stdout",
          "text": [
            "100\n",
            "-2\n"
          ]
        }
      ]
    },
    {
      "cell_type": "markdown",
      "source": [
        "## For loop"
      ],
      "metadata": {
        "id": "L_uC0BnaCPwQ"
      }
    },
    {
      "cell_type": "code",
      "source": [
        "l = [10,20,30,40.2, 'salam']\n",
        "for k in l:\n",
        "  print(k)\n",
        "\n",
        "for k in range(2,20):\n",
        "  print(k, k*k)\n",
        "\n",
        "p = [1,2,3]\n",
        "q = ['One','Two','Three']\n",
        "for i in range(len(p)):\n",
        "  print(p[i],q[i])\n",
        "\n",
        "l = [10,20,1.2, 'salam']\n",
        "for k in l:\n",
        "  print(k)\n",
        "\n",
        "for i, k in enumerate(l):\n",
        "  print(i,k)\n",
        "\n",
        "l1 = [10,20,30, 'salam']\n",
        "l2 = ['a','b','c', 'aleik']\n",
        "print(list(zip(l1,l2)))\n",
        "for i,j in zip(l1,l2):\n",
        "  print(i,j)\n",
        "\n",
        "for k in range(2,20):\n",
        "  print(k, k*k)"
      ],
      "metadata": {
        "colab": {
          "base_uri": "https://localhost:8080/"
        },
        "id": "OtUdZM2iCSL3",
        "outputId": "9045bbda-f6a6-4c6d-ac3f-6c1732c6eefd"
      },
      "execution_count": null,
      "outputs": [
        {
          "output_type": "stream",
          "name": "stdout",
          "text": [
            "10\n",
            "20\n",
            "30\n",
            "40.2\n",
            "salam\n",
            "2 4\n",
            "3 9\n",
            "4 16\n",
            "5 25\n",
            "6 36\n",
            "7 49\n",
            "8 64\n",
            "9 81\n",
            "10 100\n",
            "11 121\n",
            "12 144\n",
            "13 169\n",
            "14 196\n",
            "15 225\n",
            "16 256\n",
            "17 289\n",
            "18 324\n",
            "19 361\n",
            "1 One\n",
            "2 Two\n",
            "3 Three\n",
            "10\n",
            "20\n",
            "1.2\n",
            "salam\n",
            "0 10\n",
            "1 20\n",
            "2 1.2\n",
            "3 salam\n",
            "[(10, 'a'), (20, 'b'), (30, 'c'), ('salam', 'aleik')]\n",
            "10 a\n",
            "20 b\n",
            "30 c\n",
            "salam aleik\n",
            "2 4\n",
            "3 9\n",
            "4 16\n",
            "5 25\n",
            "6 36\n",
            "7 49\n",
            "8 64\n",
            "9 81\n",
            "10 100\n",
            "11 121\n",
            "12 144\n",
            "13 169\n",
            "14 196\n",
            "15 225\n",
            "16 256\n",
            "17 289\n",
            "18 324\n",
            "19 361\n"
          ]
        }
      ]
    },
    {
      "cell_type": "markdown",
      "source": [
        "## Functions"
      ],
      "metadata": {
        "id": "2jfoD6XyCT-l"
      }
    },
    {
      "cell_type": "code",
      "source": [
        "def add(a,b):\n",
        "  return a+b\n",
        "print(add(2,3))\n",
        "print(add(2,3.1))\n",
        "print(add('abc', '123'))\n",
        "def sum(l):\n",
        "  s = 0\n",
        "  for k in l:\n",
        "    s += k\n",
        "  return s\n",
        "\n",
        "l = [1,2,4,8,16]\n",
        "print(sum(l))\n",
        "print(list(range(0,10)))\n",
        "print(sum(range(10)))\n",
        "#print(sum(2)) # error"
      ],
      "metadata": {
        "colab": {
          "base_uri": "https://localhost:8080/"
        },
        "id": "Jw016i59CeNZ",
        "outputId": "f44884d8-fc18-414e-8333-d7abdd212fa8"
      },
      "execution_count": null,
      "outputs": [
        {
          "output_type": "stream",
          "name": "stdout",
          "text": [
            "5\n",
            "5.1\n",
            "abc123\n",
            "31\n",
            "[0, 1, 2, 3, 4, 5, 6, 7, 8, 9]\n",
            "45\n"
          ]
        }
      ]
    },
    {
      "cell_type": "markdown",
      "source": [
        "## Default argument values"
      ],
      "metadata": {
        "id": "38q5u6pXCku-"
      }
    },
    {
      "cell_type": "code",
      "source": [
        "def add(a,b=1):\n",
        "  return a+b\n",
        "print(add(20,4))\n",
        "print(add(20))"
      ],
      "metadata": {
        "colab": {
          "base_uri": "https://localhost:8080/"
        },
        "id": "1fbsrxkmCmhs",
        "outputId": "dbfaa418-030f-4cfd-c8d0-39aaffd2c394"
      },
      "execution_count": null,
      "outputs": [
        {
          "output_type": "stream",
          "name": "stdout",
          "text": [
            "24\n",
            "21\n"
          ]
        }
      ]
    },
    {
      "cell_type": "markdown",
      "source": [
        "## Call by name"
      ],
      "metadata": {
        "id": "CEoBbD8uCozg"
      }
    },
    {
      "cell_type": "code",
      "source": [
        "def sub(n1,n2):\n",
        "  return n1-n2\n",
        "print(sub(20,4))\n",
        "print(sub(n1=20,n2=4))\n",
        "print(sub(n2=20,n1=4))"
      ],
      "metadata": {
        "colab": {
          "base_uri": "https://localhost:8080/"
        },
        "id": "dJQ018JpCqAR",
        "outputId": "aa34718f-bd18-48e0-8788-f1ed4b5acb8c"
      },
      "execution_count": null,
      "outputs": [
        {
          "output_type": "stream",
          "name": "stdout",
          "text": [
            "16\n",
            "16\n",
            "-16\n"
          ]
        }
      ]
    },
    {
      "cell_type": "markdown",
      "source": [
        "## Using python modules"
      ],
      "metadata": {
        "id": "9XnMPr4xCuJd"
      }
    },
    {
      "cell_type": "code",
      "source": [
        "import math\n",
        "print(math.cos(0), math.exp(0))\n",
        "print(math.pi)\n",
        "print(math.cos(math.pi))\n",
        "\n",
        "import math as m\n",
        "print(m.tan(0))\n",
        "\n",
        "from math import sin, cos, exp, pi\n",
        "print(exp(1), sin(pi/2))\n",
        "\n",
        "from math import *\n",
        "print(pi)\n",
        "print(e)\n",
        "print(log(e))\n",
        "print(cos(log(1)))\n",
        "print(tan(pi/4))"
      ],
      "metadata": {
        "colab": {
          "base_uri": "https://localhost:8080/"
        },
        "id": "1LmLp3QtCwLp",
        "outputId": "df7eb757-8b07-4a60-8179-8d7624b8e22f"
      },
      "execution_count": null,
      "outputs": [
        {
          "output_type": "stream",
          "name": "stdout",
          "text": [
            "1.0 1.0\n",
            "3.141592653589793\n",
            "-1.0\n",
            "0.0\n",
            "2.718281828459045 1.0\n",
            "3.141592653589793\n",
            "2.718281828459045\n",
            "1.0\n",
            "1.0\n",
            "0.9999999999999999\n"
          ]
        }
      ]
    },
    {
      "cell_type": "markdown",
      "source": [
        "## List Comprehensions"
      ],
      "metadata": {
        "id": "yVqGkCXHr8c5"
      }
    },
    {
      "cell_type": "code",
      "source": [
        "l = [10,20,30]\n",
        "t = [2*k for k in l]\n",
        "print(t)\n",
        "t = [k*k for k in range(10)]\n",
        "print(t)\n",
        "t = [k*k for k in range(10) if k % 2 == 0]\n",
        "print(t)"
      ],
      "metadata": {
        "colab": {
          "base_uri": "https://localhost:8080/"
        },
        "id": "9HouPmUpr9sM",
        "outputId": "f1e5f79e-5599-4313-c772-b82a4ea31d5b"
      },
      "execution_count": null,
      "outputs": [
        {
          "output_type": "stream",
          "name": "stdout",
          "text": [
            "[20, 40, 60]\n",
            "[0, 1, 4, 9, 16, 25, 36, 49, 64, 81]\n",
            "[0, 4, 16, 36, 64]\n"
          ]
        }
      ]
    },
    {
      "cell_type": "markdown",
      "source": [
        "## Lambda Functions"
      ],
      "metadata": {
        "id": "2NnLGbBWsKG3"
      }
    },
    {
      "cell_type": "code",
      "source": [
        "f = lambda x : 2*x+1\n",
        "print(f(1))\n",
        "print(f(2))"
      ],
      "metadata": {
        "id": "z7KTyuTnsNc4"
      },
      "execution_count": null,
      "outputs": []
    },
    {
      "cell_type": "markdown",
      "source": [
        "# Lab Instructions - session 1\n",
        "Introduction to numpy and matplotlib"
      ],
      "metadata": {
        "id": "BJDzq4HPssCN"
      }
    },
    {
      "cell_type": "markdown",
      "source": [
        "**A review of numpy arrays and matrices + matplotlib**\n",
        "\n",
        "Open an interactive Python environment (python shell, ipython shell, Jupyter notebook,\n",
        "Google Colab), run the following commands, and see the output. Do not close the\n",
        "environment"
      ],
      "metadata": {
        "id": "6XcuJVwzszma"
      }
    },
    {
      "cell_type": "markdown",
      "source": [
        "## Creating numpy arrays"
      ],
      "metadata": {
        "id": "M9qxod-Es9J-"
      }
    },
    {
      "cell_type": "code",
      "source": [
        "l = [1,2,3]\n",
        "print(l)\n",
        "import numpy\n",
        "a = numpy.array(l)\n",
        "print(a)\n",
        "a[2] = 300\n",
        "print(a)\n",
        "print(type(l))\n",
        "print(type(a))\n",
        "import numpy as np\n",
        "a = np.array(l)\n",
        "print(a)\n",
        "a = np.zeros(10)\n",
        "print(a)\n",
        "print(a.dtype)\n",
        "a[2] = 4\n",
        "print(a)\n",
        "a = np.zeros(10, dtype=np.int64)\n",
        "print(a)\n",
        "print(a.dtype)\n",
        "a = np.ones(10)\n",
        "print(a)\n",
        "a = np.ones(10) * -20\n",
        "print(a)\n",
        "b = np.full(10, 222)\n",
        "print(b)\n",
        "a = np.arange(10)\n",
        "print(a)\n",
        "print(2**a)"
      ],
      "metadata": {
        "id": "7eBGgOpqs5mc",
        "colab": {
          "base_uri": "https://localhost:8080/"
        },
        "outputId": "04bc71c0-b6cc-4be6-ccc1-806fe34543d0"
      },
      "execution_count": null,
      "outputs": [
        {
          "output_type": "stream",
          "name": "stdout",
          "text": [
            "[1, 2, 3]\n",
            "[1 2 3]\n",
            "[  1   2 300]\n",
            "<class 'list'>\n",
            "<class 'numpy.ndarray'>\n",
            "[1 2 3]\n",
            "[0. 0. 0. 0. 0. 0. 0. 0. 0. 0.]\n",
            "float64\n",
            "[0. 0. 4. 0. 0. 0. 0. 0. 0. 0.]\n",
            "[0 0 0 0 0 0 0 0 0 0]\n",
            "int64\n",
            "[1. 1. 1. 1. 1. 1. 1. 1. 1. 1.]\n",
            "[-20. -20. -20. -20. -20. -20. -20. -20. -20. -20.]\n",
            "[222 222 222 222 222 222 222 222 222 222]\n",
            "[0 1 2 3 4 5 6 7 8 9]\n",
            "[  1   2   4   8  16  32  64 128 256 512]\n"
          ]
        }
      ]
    },
    {
      "cell_type": "markdown",
      "source": [
        "## Numpy array basic properties"
      ],
      "metadata": {
        "id": "NYy4QhKctGk4"
      }
    },
    {
      "cell_type": "code",
      "source": [
        "a = np.ones(10000)\n",
        "print(a)\n",
        "print(len(a))\n",
        "print(a.shape)\n",
        "print(type(a))\n",
        "print(a.size)\n",
        "print(a.ndim)\n",
        "print(a.dtype)\n",
        "print(a.nbytes)\n",
        "print(a.itemsize)\n",
        "import sys\n",
        "sys.getsizeof(a)"
      ],
      "metadata": {
        "id": "jWBcUir3tH5y",
        "colab": {
          "base_uri": "https://localhost:8080/"
        },
        "outputId": "74e55fce-5200-4653-a9eb-5918fb4abf16"
      },
      "execution_count": null,
      "outputs": [
        {
          "output_type": "stream",
          "name": "stdout",
          "text": [
            "[1. 1. 1. ... 1. 1. 1.]\n",
            "10000\n",
            "(10000,)\n",
            "<class 'numpy.ndarray'>\n",
            "10000\n",
            "1\n",
            "float64\n",
            "80000\n",
            "8\n"
          ]
        },
        {
          "output_type": "execute_result",
          "data": {
            "text/plain": [
              "80112"
            ]
          },
          "metadata": {},
          "execution_count": 4
        }
      ]
    },
    {
      "cell_type": "markdown",
      "source": [
        "**Why are the outputs of a.nbytes and sys.getsizeof(a) different?**\n",
        "\n",
        "This is because nbytes only returns the size of stored data, while sys. getsizeof returns the size of the whole object, i.e. the size of the stored data plus some overhead. There is a small overhead for numpy arrays, because they have to store the array dimensions, the datatype and similar information."
      ],
      "metadata": {
        "id": "2RVuWiKLtLLy"
      }
    },
    {
      "cell_type": "markdown",
      "source": [
        "## Lists vs. numpy arrays"
      ],
      "metadata": {
        "id": "60X02RW9tMZV"
      }
    },
    {
      "cell_type": "code",
      "source": [
        "l1 = [1,2,3]\n",
        "l2 = [4,5,6]\n",
        "a1 = np.array(l1)\n",
        "a2 = np.array(l2)\n",
        "print(l1,a1)\n",
        "print(l2,a2)\n",
        "print(l1+l2)\n",
        "print(a1+a2)"
      ],
      "metadata": {
        "id": "QAl7k-nhtOu3",
        "colab": {
          "base_uri": "https://localhost:8080/"
        },
        "outputId": "3112330e-5035-49db-897a-49e3f5c9a6ae"
      },
      "execution_count": null,
      "outputs": [
        {
          "output_type": "stream",
          "name": "stdout",
          "text": [
            "[1, 2, 3] [1 2 3]\n",
            "[4, 5, 6] [4 5 6]\n",
            "[1, 2, 3, 4, 5, 6]\n",
            "[5 7 9]\n"
          ]
        }
      ]
    },
    {
      "cell_type": "markdown",
      "source": [
        "## Data types"
      ],
      "metadata": {
        "id": "LIpPL7iBtTL8"
      }
    },
    {
      "cell_type": "code",
      "source": [
        "a = np.array([1,2,3,4,5,6,7,8,9,10], dtype=np.int64)\n",
        "print(a)\n",
        "b = np.array([1,2,3,4,5,6,7,8,9,10], dtype=np.int32)\n",
        "print(b)\n",
        "c = np.array([1,2,3,4,5,6,7,8,9,10], dtype=np.int16)\n",
        "print(c)\n",
        "d = np.array([1,2,3,4,5,6,7,8,9,128], dtype=np.int8)\n",
        "print(d)\n",
        "e = np.array([1,2,3,4,5,6,7,8,9,257], dtype=np.uint8)\n",
        "print(e)\n",
        "print(a.itemsize, b.itemsize, c.itemsize, d.itemsize, e.itemsize)\n",
        "print(a.nbytes, b.nbytes, c.nbytes, d.nbytes, e.nbytes)\n",
        "print(d-4)\n",
        "print(e-4)\n",
        "f = np.array([1,2,3,4,5,6,7,8,9,10], dtype=np.float32)\n",
        "print(f)\n",
        "g = np.array([1,2,3,4,5,6,7,8,9,10], dtype=np.float64)\n",
        "print(g)\n",
        "h = np.array([1,2,3,4,5,6,7,8,9,10], dtype=np.float128)\n",
        "print('h = ',h )\n",
        "print(f.nbytes, g.nbytes, h.nbytes)\n",
        "l = np.array([False, True, True])\n",
        "print(l)\n",
        "print(l.dtype)\n",
        "l = np.array([0, 1, 1], dtype=np.bool)\n",
        "print(l)\n",
        "print(l.dtype)\n",
        "print(l.nbytes)"
      ],
      "metadata": {
        "id": "sWFq_QhztUHw",
        "colab": {
          "base_uri": "https://localhost:8080/"
        },
        "outputId": "37e96d70-7f0a-4904-d2e9-7d0710a39c0a"
      },
      "execution_count": null,
      "outputs": [
        {
          "output_type": "stream",
          "name": "stdout",
          "text": [
            "[ 1  2  3  4  5  6  7  8  9 10]\n",
            "[ 1  2  3  4  5  6  7  8  9 10]\n",
            "[ 1  2  3  4  5  6  7  8  9 10]\n",
            "[   1    2    3    4    5    6    7    8    9 -128]\n",
            "[1 2 3 4 5 6 7 8 9 1]\n",
            "8 4 2 1 1\n",
            "80 40 20 10 10\n",
            "[ -3  -2  -1   0   1   2   3   4   5 124]\n",
            "[253 254 255   0   1   2   3   4   5 253]\n",
            "[ 1.  2.  3.  4.  5.  6.  7.  8.  9. 10.]\n",
            "[ 1.  2.  3.  4.  5.  6.  7.  8.  9. 10.]\n",
            "h =  [ 1.  2.  3.  4.  5.  6.  7.  8.  9. 10.]\n",
            "40 80 160\n",
            "[False  True  True]\n",
            "bool\n",
            "[False  True  True]\n",
            "bool\n",
            "3\n"
          ]
        },
        {
          "output_type": "stream",
          "name": "stderr",
          "text": [
            "<ipython-input-5-a34117b623fd>:25: DeprecationWarning: `np.bool` is a deprecated alias for the builtin `bool`. To silence this warning, use `bool` by itself. Doing this will not modify any behavior and is safe. If you specifically wanted the numpy scalar type, use `np.bool_` here.\n",
            "Deprecated in NumPy 1.20; for more details and guidance: https://numpy.org/devdocs/release/1.20.0-notes.html#deprecations\n",
            "  l = np.array([0, 1, 1], dtype=np.bool)\n"
          ]
        }
      ]
    },
    {
      "cell_type": "markdown",
      "source": [
        "## Basic operations"
      ],
      "metadata": {
        "id": "jn-LScVutY7d"
      }
    },
    {
      "cell_type": "code",
      "source": [
        "a = np.array([1,2,3])\n",
        "print(a)\n",
        "b = np.array([4,5,6])\n",
        "print(b)\n",
        "print(a+b)\n",
        "print(a-b)\n",
        "print(a*b)\n",
        "print(b**a)\n",
        "print(a + 4)\n",
        "print(a * 2)\n",
        "print(a ** 2)\n",
        "print(a.dtype)\n",
        "print(a/b) # different in pythons 2.x and 3.x\n",
        "print(a//b)\n",
        "a = np.array([1.0,2,3])\n",
        "print(a)\n",
        "print(a.dtype)\n",
        "print(a / b)\n",
        "print(a//b) # different in pythons 2.x and 3.x\n",
        "a = np.array([1,2,3], dtype=np.float64)\n",
        "print(a)\n",
        "print(a.dtype)"
      ],
      "metadata": {
        "id": "u02lmxZQtcFs",
        "colab": {
          "base_uri": "https://localhost:8080/"
        },
        "outputId": "0fddd653-f21f-4e20-8da4-1793ca9dc7c2"
      },
      "execution_count": null,
      "outputs": [
        {
          "output_type": "stream",
          "name": "stdout",
          "text": [
            "[1 2 3]\n",
            "[4 5 6]\n",
            "[5 7 9]\n",
            "[-3 -3 -3]\n",
            "[ 4 10 18]\n",
            "[  4  25 216]\n",
            "[5 6 7]\n",
            "[2 4 6]\n",
            "[1 4 9]\n",
            "int64\n",
            "[0.25 0.4  0.5 ]\n",
            "[0 0 0]\n",
            "[1. 2. 3.]\n",
            "float64\n",
            "[0.25 0.4  0.5 ]\n",
            "[0. 0. 0.]\n",
            "[1. 2. 3.]\n",
            "float64\n"
          ]
        }
      ]
    },
    {
      "cell_type": "markdown",
      "source": [
        "## Slicing"
      ],
      "metadata": {
        "id": "f6-w0Ductefh"
      }
    },
    {
      "cell_type": "code",
      "source": [
        "a = np.array([0,10,20,30,40, 50, 60, 70, 80, 90, 100])\n",
        "print(a)\n",
        "print(a[-2])\n",
        "print(a[2:8])\n",
        "print(a[2:-1])\n",
        "print(a[2:])\n",
        "print(a[:8])\n",
        "print(a[2:8:2])\n",
        "print(a[2:8:-1])\n",
        "print(a[8:2:-1])\n",
        "print(a[::-1])\n",
        "print(a[[1,3,3,4,5]])"
      ],
      "metadata": {
        "id": "kVMiw6Blte31",
        "colab": {
          "base_uri": "https://localhost:8080/"
        },
        "outputId": "7afb1c0f-6c35-4f32-f74b-86fc8d962af1"
      },
      "execution_count": null,
      "outputs": [
        {
          "output_type": "stream",
          "name": "stdout",
          "text": [
            "[  0  10  20  30  40  50  60  70  80  90 100]\n",
            "90\n",
            "[20 30 40 50 60 70]\n",
            "[20 30 40 50 60 70 80 90]\n",
            "[ 20  30  40  50  60  70  80  90 100]\n",
            "[ 0 10 20 30 40 50 60 70]\n",
            "[20 40 60]\n",
            "[]\n",
            "[80 70 60 50 40 30]\n",
            "[100  90  80  70  60  50  40  30  20  10   0]\n",
            "[10 30 30 40 50]\n"
          ]
        }
      ]
    },
    {
      "cell_type": "markdown",
      "source": [
        "## 2D Arrays"
      ],
      "metadata": {
        "id": "8H2kQznltkmV"
      }
    },
    {
      "cell_type": "code",
      "source": [
        "A = np.zeros((4,6))\n",
        "print(A)\n",
        "A = np.zeros((4,6), dtype=np.int32)\n",
        "print(A)\n",
        "A = np.ones((3,7))\n",
        "print(A)\n",
        "A = np.ones((3,8), dtype=np.uint8)\n",
        "print(A)\n",
        "B = np.full((4,3), 50.0)\n",
        "print(B)\n"
      ],
      "metadata": {
        "id": "gF4rVEu5tmdP",
        "colab": {
          "base_uri": "https://localhost:8080/"
        },
        "outputId": "fb37e7f0-f780-4ca2-df15-ec19cc852d6b"
      },
      "execution_count": null,
      "outputs": [
        {
          "output_type": "stream",
          "name": "stdout",
          "text": [
            "[[0. 0. 0. 0. 0. 0.]\n",
            " [0. 0. 0. 0. 0. 0.]\n",
            " [0. 0. 0. 0. 0. 0.]\n",
            " [0. 0. 0. 0. 0. 0.]]\n",
            "[[0 0 0 0 0 0]\n",
            " [0 0 0 0 0 0]\n",
            " [0 0 0 0 0 0]\n",
            " [0 0 0 0 0 0]]\n",
            "[[1. 1. 1. 1. 1. 1. 1.]\n",
            " [1. 1. 1. 1. 1. 1. 1.]\n",
            " [1. 1. 1. 1. 1. 1. 1.]]\n",
            "[[1 1 1 1 1 1 1 1]\n",
            " [1 1 1 1 1 1 1 1]\n",
            " [1 1 1 1 1 1 1 1]]\n",
            "[[50. 50. 50.]\n",
            " [50. 50. 50.]\n",
            " [50. 50. 50.]\n",
            " [50. 50. 50.]]\n"
          ]
        }
      ]
    },
    {
      "cell_type": "code",
      "source": [
        "A = np.array([[1,2,3,4], [5,6,7,8], [9,10,11,12]])\n",
        "print(A)\n",
        "print(A[1,2])\n",
        "print(A[0,-1])\n",
        "print(A[1,2])\n",
        "print(A.shape)\n",
        "print(A.shape[0])\n",
        "print(A.shape[1])\n",
        "print(A.shape[::-1])\n",
        "print(A.size)\n",
        "print(A.ndim)\n",
        "print(A[0])\n",
        "print(A[1])\n",
        "print(A[0].shape)\n",
        "print(A[0,:])\n",
        "print(A[0,:].shape)\n",
        "print(A[[0],:])\n",
        "print(A[[0],:].shape)\n",
        "print(A[:,2])"
      ],
      "metadata": {
        "colab": {
          "base_uri": "https://localhost:8080/"
        },
        "id": "pQLURMdobCYo",
        "outputId": "0bffc720-2465-49d1-afeb-5b099bf3666f"
      },
      "execution_count": null,
      "outputs": [
        {
          "output_type": "stream",
          "name": "stdout",
          "text": [
            "[[ 1  2  3  4]\n",
            " [ 5  6  7  8]\n",
            " [ 9 10 11 12]]\n",
            "7\n",
            "4\n",
            "7\n",
            "(3, 4)\n",
            "3\n",
            "4\n",
            "(4, 3)\n",
            "12\n",
            "2\n",
            "[1 2 3 4]\n",
            "[5 6 7 8]\n",
            "(4,)\n",
            "[1 2 3 4]\n",
            "(4,)\n",
            "[[1 2 3 4]]\n",
            "(1, 4)\n",
            "[ 3  7 11]\n"
          ]
        }
      ]
    },
    {
      "cell_type": "markdown",
      "source": [
        "shape is a tuple that always gives dimensions of the array. The shape function is a tuple that gives you an arrangement of the number of dimensions in the array."
      ],
      "metadata": {
        "id": "GFFkjK96kyRh"
      }
    },
    {
      "cell_type": "code",
      "source": [
        "print(A[:,[2]])\n",
        "print(A)\n",
        "print(A[:,2].shape)\n",
        "print(A[:,[2]].shape)\n",
        "print(A[0:3])\n",
        "print(A[1:3,:])\n",
        "print(A[:,:3])\n",
        "print(A[:,::2])\n",
        "print(A[:,::-1])\n",
        "r = np.array([0, 1, 0, 2, 2])\n",
        "print(A)\n",
        "print(r)\n",
        "print(A[r,:])"
      ],
      "metadata": {
        "colab": {
          "base_uri": "https://localhost:8080/"
        },
        "id": "ngXqqtyhdCV3",
        "outputId": "ec84369f-ea7e-4a15-fd69-c7420189ca3e"
      },
      "execution_count": null,
      "outputs": [
        {
          "output_type": "stream",
          "name": "stdout",
          "text": [
            "[[ 3]\n",
            " [ 7]\n",
            " [11]]\n",
            "[[ 1  2  3  4]\n",
            " [ 5  6  7  8]\n",
            " [ 9 10 11 12]]\n",
            "(3,)\n",
            "(3, 1)\n",
            "[[ 1  2  3  4]\n",
            " [ 5  6  7  8]\n",
            " [ 9 10 11 12]]\n",
            "[[ 5  6  7  8]\n",
            " [ 9 10 11 12]]\n",
            "[[ 1  2  3]\n",
            " [ 5  6  7]\n",
            " [ 9 10 11]]\n",
            "[[ 1  3]\n",
            " [ 5  7]\n",
            " [ 9 11]]\n",
            "[[ 4  3  2  1]\n",
            " [ 8  7  6  5]\n",
            " [12 11 10  9]]\n",
            "[[ 1  2  3  4]\n",
            " [ 5  6  7  8]\n",
            " [ 9 10 11 12]]\n",
            "[0 1 0 2 2]\n",
            "[[ 1  2  3  4]\n",
            " [ 5  6  7  8]\n",
            " [ 1  2  3  4]\n",
            " [ 9 10 11 12]\n",
            " [ 9 10 11 12]]\n"
          ]
        }
      ]
    },
    {
      "cell_type": "code",
      "source": [
        "print(A)\n",
        "A[:,0] = 1\n",
        "A\n",
        "A[:,0] = [20,30,40]\n",
        "A\n",
        "A.T\n",
        "B = np.array([[1,1,1,1], [2,2,2,2], [3,3,3,3]])\n",
        "print(B)\n",
        "A + B\n",
        "A * B\n",
        "A = A.T\n",
        "print('A = ',A)\n",
        "C = np.dot(A,B)\n",
        "print('C = \\n',C)\n",
        "print(A.dot(B))\n",
        "print(A @ B)\n",
        "#A.dot(B.T)\n",
        "I = np.eye(3) # identity matrix\n",
        "print('I = ',I)\n",
        "print(np.random.random((2,3)))\n",
        "np.random.random((2,3))\n",
        "np.random.random((2,3))\n",
        "np.random.rand(2,3)\n",
        "np.random.rand(2,3)\n",
        "np.random.randn(2,3)\n",
        "np.random.randn(2,3)"
      ],
      "metadata": {
        "id": "OWnxrSkjttBk",
        "colab": {
          "base_uri": "https://localhost:8080/"
        },
        "outputId": "7a4e9fb6-3392-4d06-c8b8-d2fb992bd3f9"
      },
      "execution_count": null,
      "outputs": [
        {
          "output_type": "stream",
          "name": "stdout",
          "text": [
            "[[ 1  2  3  4]\n",
            " [ 5  6  7  8]\n",
            " [ 9 10 11 12]]\n",
            "[[1 1 1 1]\n",
            " [2 2 2 2]\n",
            " [3 3 3 3]]\n",
            "A =  [[20 30 40]\n",
            " [ 2  6 10]\n",
            " [ 3  7 11]\n",
            " [ 4  8 12]]\n",
            "C = \n",
            " [[200 200 200 200]\n",
            " [ 44  44  44  44]\n",
            " [ 50  50  50  50]\n",
            " [ 56  56  56  56]]\n",
            "[[200 200 200 200]\n",
            " [ 44  44  44  44]\n",
            " [ 50  50  50  50]\n",
            " [ 56  56  56  56]]\n",
            "[[200 200 200 200]\n",
            " [ 44  44  44  44]\n",
            " [ 50  50  50  50]\n",
            " [ 56  56  56  56]]\n",
            "I =  [[1. 0. 0.]\n",
            " [0. 1. 0.]\n",
            " [0. 0. 1.]]\n",
            "[[0.84094879 0.39629028 0.18672578]\n",
            " [0.44782652 0.30965959 0.65755552]]\n"
          ]
        },
        {
          "output_type": "execute_result",
          "data": {
            "text/plain": [
              "array([[-0.54134146,  1.16239035,  0.02056757],\n",
              "       [-0.42684482, -0.44929578,  0.46456628]])"
            ]
          },
          "metadata": {},
          "execution_count": 100
        }
      ]
    },
    {
      "cell_type": "markdown",
      "source": [
        "## Numpy slices are references (not copies)"
      ],
      "metadata": {
        "id": "NPdxTJ-it4ae"
      }
    },
    {
      "cell_type": "code",
      "source": [
        "import numpy as np\n",
        "A = np.array([[1,2,3,4], [5,6,7,8], [9,10,11,12]])\n",
        "print(A)\n",
        "b = A[:,1]\n",
        "print(b)\n",
        "A\n",
        "b[1] = 10000\n",
        "print(b)\n",
        "print(A)\n",
        "b = A[:,0].copy()\n",
        "print(b)\n",
        "b[1] = -20000\n",
        "print(b)\n",
        "print(A)"
      ],
      "metadata": {
        "id": "uT3d2soxt6hH",
        "colab": {
          "base_uri": "https://localhost:8080/"
        },
        "outputId": "e939a9cf-7c35-4dff-c14d-f79ba9128369"
      },
      "execution_count": null,
      "outputs": [
        {
          "output_type": "stream",
          "name": "stdout",
          "text": [
            "[[ 1  2  3  4]\n",
            " [ 5  6  7  8]\n",
            " [ 9 10 11 12]]\n",
            "[ 2  6 10]\n",
            "[    2 10000    10]\n",
            "[[    1     2     3     4]\n",
            " [    5 10000     7     8]\n",
            " [    9    10    11    12]]\n",
            "[1 5 9]\n",
            "[     1 -20000      9]\n",
            "[[    1     2     3     4]\n",
            " [    5 10000     7     8]\n",
            " [    9    10    11    12]]\n"
          ]
        }
      ]
    },
    {
      "cell_type": "markdown",
      "source": [
        "## Masks"
      ],
      "metadata": {
        "id": "9hK5R7jet_bJ"
      }
    },
    {
      "cell_type": "code",
      "source": [
        "A = np.array([[1,2,3,4],[5,6,7,8],[9,10,11,12]])\n",
        "\n",
        "Mask = np.array([[True, False, True, False],\n",
        "[True, True, False, False],\n",
        "[False, False, False, True]])\n",
        "print(Mask.dtype)\n",
        "print(A)\n",
        "print(A[Mask])\n",
        "A[~Mask]\n",
        "A[Mask] = 222\n",
        "A\n",
        "A[~Mask] *= 2\n",
        "A\n",
        "A = np.array([[1,2,3,4], [5,6,7,8], [9,10,11,12]])\n",
        "B = np.zeros_like(A)\n",
        "print('B =\\n',B)\n",
        "B[Mask] = A[Mask]\n",
        "print(B )\n",
        "print(A > 2)\n",
        "Mask = A < 8\n",
        "print(Mask)\n",
        "print(A[Mask])\n",
        "print(A[A < 8])\n",
        "A[A < 8] += 100\n",
        "print(A)"
      ],
      "metadata": {
        "id": "dXXnTnNjuCv6",
        "colab": {
          "base_uri": "https://localhost:8080/"
        },
        "outputId": "6a4f0139-52fa-4f6b-d810-826794f39812"
      },
      "execution_count": null,
      "outputs": [
        {
          "output_type": "stream",
          "name": "stdout",
          "text": [
            "bool\n",
            "[[ 1  2  3  4]\n",
            " [ 5  6  7  8]\n",
            " [ 9 10 11 12]]\n",
            "[ 1  3  5  6 12]\n",
            "B =\n",
            " [[0 0 0 0]\n",
            " [0 0 0 0]\n",
            " [0 0 0 0]]\n",
            "[[ 1  0  3  0]\n",
            " [ 5  6  0  0]\n",
            " [ 0  0  0 12]]\n",
            "[[False False  True  True]\n",
            " [ True  True  True  True]\n",
            " [ True  True  True  True]]\n",
            "[[ True  True  True  True]\n",
            " [ True  True  True False]\n",
            " [False False False False]]\n",
            "[1 2 3 4 5 6 7]\n",
            "[1 2 3 4 5 6 7]\n",
            "[[101 102 103 104]\n",
            " [105 106 107   8]\n",
            " [  9  10  11  12]]\n"
          ]
        }
      ]
    },
    {
      "cell_type": "markdown",
      "source": [
        "## Operations on arrays"
      ],
      "metadata": {
        "id": "RYKyDSNSuEnQ"
      }
    },
    {
      "cell_type": "code",
      "source": [
        "A = np.array([[1,2,3,4], [5,6,7,8], [9,10,11,12]])\n",
        "A.sum()\n",
        "A.sum(axis=0)\n",
        "A.sum(axis=1)\n",
        "print(A.min())\n",
        "print(A.min(axis=0))\n",
        "print(A.max(axis=0))\n",
        "print(A.max(axis=0,keepdims=True))\n",
        "print(A.max(axis=1))\n",
        "print(A.max(axis=1,keepdims=True))\n",
        "print(A.mean(axis=1))\n",
        "print(A.prod(axis=0))"
      ],
      "metadata": {
        "id": "z409KlgiuFVh",
        "colab": {
          "base_uri": "https://localhost:8080/"
        },
        "outputId": "49292c64-917f-430d-ac0d-980b260d08a5"
      },
      "execution_count": null,
      "outputs": [
        {
          "output_type": "stream",
          "name": "stdout",
          "text": [
            "1\n",
            "[1 2 3 4]\n",
            "[ 9 10 11 12]\n",
            "[[ 9 10 11 12]]\n",
            "[ 4  8 12]\n",
            "[[ 4]\n",
            " [ 8]\n",
            " [12]]\n",
            "[ 2.5  6.5 10.5]\n",
            "[ 45 120 231 384]\n"
          ]
        }
      ]
    },
    {
      "cell_type": "markdown",
      "source": [
        "## Concatenation"
      ],
      "metadata": {
        "id": "XNHrLUr-uLFT"
      }
    },
    {
      "cell_type": "code",
      "source": [
        "X = np.array([[1,2],[3,4]])\n",
        "Y = np.array([[10,20,30],[40,50,60]])\n",
        "Z = np.array([[7,7],[8,8],[9,9]])\n",
        "X\n",
        "Z\n",
        "np.concatenate((X,Z))\n",
        "np.concatenate((X,Z), axis=0)\n",
        "X\n",
        "Y\n",
        "np.concatenate((X,Y), axis=1)\n",
        "np.vstack((X,Z))\n",
        "np.r_[X,Z]\n",
        "np.hstack(X,Y) # error\n",
        "np.hstack((X,Y))\n",
        "np.c_[X,Y]\n",
        "Y\n",
        "np.tile(Y,(4,3))"
      ],
      "metadata": {
        "id": "7bZAJY5PuLbM"
      },
      "execution_count": null,
      "outputs": []
    },
    {
      "cell_type": "markdown",
      "source": [
        "## Reshaping"
      ],
      "metadata": {
        "id": "rv9fcRkDuG1m"
      }
    },
    {
      "cell_type": "code",
      "source": [
        "import numpy as np\n",
        "A = np.array([[1,2,3,4], [5,6,7,8], [9,10,11,12]])\n",
        "print(A.reshape((4,3)))\n",
        "A.reshape((2,6))\n",
        "# A.reshape((2,7))\n",
        "A.reshape((1,12))\n",
        "A.reshape((12,1))\n",
        "A.reshape((12,))\n",
        "b = A.ravel()\n",
        "print(b)\n",
        "print(b.shape)\n",
        "print(b.reshape((2,6)))\n",
        "print(b)\n",
        "b.shape = (2,6)\n",
        "print(b)"
      ],
      "metadata": {
        "id": "oAiOLqbJuMBW",
        "colab": {
          "base_uri": "https://localhost:8080/"
        },
        "outputId": "382a50d0-e3ad-4d8c-8823-45e2a86e8c77"
      },
      "execution_count": null,
      "outputs": [
        {
          "output_type": "stream",
          "name": "stdout",
          "text": [
            "[[ 1  2  3]\n",
            " [ 4  5  6]\n",
            " [ 7  8  9]\n",
            " [10 11 12]]\n",
            "[ 1  2  3  4  5  6  7  8  9 10 11 12]\n",
            "(12,)\n",
            "[[ 1  2  3  4  5  6]\n",
            " [ 7  8  9 10 11 12]]\n",
            "[ 1  2  3  4  5  6  7  8  9 10 11 12]\n",
            "[[ 1  2  3  4  5  6]\n",
            " [ 7  8  9 10 11 12]]\n"
          ]
        }
      ]
    },
    {
      "cell_type": "code",
      "source": [
        "f = A.flatten()\n",
        "r = A.ravel()\n",
        "print('f = ',f)\n",
        "print(r)\n",
        "f[0] = 4444\n",
        "print(f)\n",
        "print(A)\n",
        "r[0] = 4444\n",
        "print(r)\n",
        "print(A)"
      ],
      "metadata": {
        "id": "psM7GxWPuOci"
      },
      "execution_count": null,
      "outputs": []
    },
    {
      "cell_type": "markdown",
      "source": [
        "What is the difference between ravel and flatten? Which one do you\n",
        "think is faster?\n",
        "\n",
        "ravel Return only reference/view of the original array.\n",
        "flatten Return copy of the original array.\n",
        "\n",
        "Ravel is faster than flatten() as it does not occupy any memory. Flatten() is comparatively slower than ravel() as it occupies memory. Ravel is a library-level function. Flatten is a method of an ndarray object."
      ],
      "metadata": {
        "id": "InUb1B1_uMl9"
      }
    },
    {
      "cell_type": "markdown",
      "source": [
        "##  Numpy arrays vs numpy matrices"
      ],
      "metadata": {
        "id": "RVQh2tbCuRAD"
      }
    },
    {
      "cell_type": "code",
      "source": [
        "A = np.array([[1,2,3], [1,1,1], [-1,-2,-1]])\n",
        "A\n",
        "A*A # element-wise multiplication\n",
        "A.dot(A) # matrix multiplication\n",
        "A @ A # matrix multiplication (same as above)\n",
        "M = np.matrix([[1,2,3], [1,1,1], [-1,-2,-1]])\n",
        "M*M\n",
        "np.multiply(M,M)\n",
        "M=np.mat(A)\n",
        "M\n",
        "M=np.matrix(A)\n",
        "M\n",
        "M.T\n",
        "M.I\n",
        "M.I * M\n",
        "M * M.I\n",
        "M.A\n",
        "type(M)\n",
        "type(M.A)\n",
        "C = np.matrix(\"1 2; 3 4; 5 6\")\n",
        "C\n",
        "M*C"
      ],
      "metadata": {
        "id": "AMNxuv1UuTgN"
      },
      "execution_count": null,
      "outputs": []
    },
    {
      "cell_type": "markdown",
      "source": [
        "## N-dimensional arrays"
      ],
      "metadata": {
        "id": "M97FVQiruXS8"
      }
    },
    {
      "cell_type": "code",
      "source": [
        "A = np.zeros((2,4,3))\n",
        "A\n",
        "A.shape\n",
        "A[:,:,0].shape\n",
        "A[:,:,0] = [[1,2,3,4],[5,6,7,8]]\n",
        "A[:,:,1] = [[2,2,2,2],[4,4,4,4]]\n",
        "A[:,:,2] = [[10,20,30,40],[11,21,31,41]]\n",
        "A\n",
        "A[0,:,:]\n",
        "A[0]\n",
        "A[:,1,:]\n",
        "A[:,1]\n",
        "A[:,[1]]\n",
        "A[:,1].shape\n",
        "A[:,[1]].shape\n",
        "A[:,:,0]\n",
        "A[:,:,2]\n",
        "A[:,2:,2]\n",
        "A.ravel()"
      ],
      "metadata": {
        "id": "kmDAVoQmuYD0"
      },
      "execution_count": null,
      "outputs": []
    },
    {
      "cell_type": "markdown",
      "source": [
        "## Broadcasting"
      ],
      "metadata": {
        "id": "9CafzAUUuaWT"
      }
    },
    {
      "cell_type": "code",
      "source": [
        "import numpy as np\n",
        "A = np.array([0,1,2,3,4,5,6,7])\n",
        "print(A.shape)\n",
        "A - 10\n",
        "a = np.array([4])\n",
        "print(a.shape)\n",
        "A * a\n",
        "A = np.array([[1,2,3,4], [5,6,7,8], [9,10,11,12]])\n",
        "b = np.array([1, 0, 2,-2])\n",
        "print(A)\n",
        "print(b)\n",
        "print(A-b)\n",
        "c = np.array([1,2,3])\n",
        "print(c)\n",
        "# print(A-c) // can not broadcasting\n",
        "A-c.reshape((3,1))"
      ],
      "metadata": {
        "id": "egTF51BmueCO",
        "colab": {
          "base_uri": "https://localhost:8080/"
        },
        "outputId": "2f479f86-34ee-40c9-e006-e68aa8caac60"
      },
      "execution_count": null,
      "outputs": [
        {
          "output_type": "stream",
          "name": "stdout",
          "text": [
            "(8,)\n",
            "(1,)\n",
            "[[ 1  2  3  4]\n",
            " [ 5  6  7  8]\n",
            " [ 9 10 11 12]]\n",
            "[ 1  0  2 -2]\n",
            "[[ 0  2  1  6]\n",
            " [ 4  6  5 10]\n",
            " [ 8 10  9 14]]\n",
            "[1 2 3]\n"
          ]
        },
        {
          "output_type": "execute_result",
          "data": {
            "text/plain": [
              "array([[0, 1, 2, 3],\n",
              "       [3, 4, 5, 6],\n",
              "       [6, 7, 8, 9]])"
            ]
          },
          "metadata": {},
          "execution_count": 13
        }
      ]
    },
    {
      "cell_type": "code",
      "source": [
        "A = np.arange(24).reshape((2,3,4))\n",
        "A.shape\n",
        "A - 2\n",
        "A - np.array([1,2])\n",
        "A - np.array([1,2,3,4])\n",
        "A - np.array([1,2,3])\n",
        "A - np.array([1,2,3]).reshape((3,1))\n",
        "A - np.array([1,2])\n",
        "A - np.array([1,2]).reshape((2,1,1))\n",
        "A - np.array([[1,2,3,4],[5,6,7,8], [9,10,11,12]])\n",
        "A - np.array([[1,2,3,4],[5,6,7,8]])\n",
        "A - np.array([[1,2,3,4],[5,6,7,8]]).reshape((2,1,4))"
      ],
      "metadata": {
        "id": "AlYh1yLSug1o"
      },
      "execution_count": null,
      "outputs": []
    },
    {
      "cell_type": "markdown",
      "source": [
        "To get a better understanding of broadcasting, read the following (particularly the\n",
        "broadcasting rules) https://numpy.org/doc/stable/user/basics.broadcasting.html"
      ],
      "metadata": {
        "id": "Zz-mD8d3uegY"
      }
    },
    {
      "cell_type": "markdown",
      "source": [
        "## Math functions"
      ],
      "metadata": {
        "id": "Ve7ZEF1gukX6"
      }
    },
    {
      "cell_type": "code",
      "source": [
        "x = np.arange(0, 2 * np.pi, 0.1)\n",
        "xy\n",
        "= np.cos(x)\n",
        "y\n",
        "np.sin(x)\n",
        "np.tan(x)\n",
        "x = np.linspace(1,8,20)\n",
        "x\n",
        "x.shape\n",
        "np.exp(x)\n",
        "np.log(x)\n",
        "np.log10(x)\n",
        "np.log2(x)\n",
        "np.floor(x)\n",
        "np.ceil(x)\n",
        "np.round(x)\n",
        "np.sqrt(x)\n",
        "np.arctan(x)"
      ],
      "metadata": {
        "id": "Ec7Ry6zUumg0"
      },
      "execution_count": null,
      "outputs": []
    },
    {
      "cell_type": "markdown",
      "source": [
        "Here you can find a list of numpy math functions:\n",
        "○ https://numpy.org/doc/stable/reference/routines.math.html"
      ],
      "metadata": {
        "id": "c9QuD1myurhf"
      }
    },
    {
      "cell_type": "markdown",
      "source": [
        "## Plotting with Matplotlib"
      ],
      "metadata": {
        "id": "PRGFCE_xutyQ"
      }
    },
    {
      "cell_type": "code",
      "source": [
        "import numpy\n",
        "import numpy as np\n",
        "import sys\n",
        "from matplotlib import pyplot as plt\n",
        "x = np.arange(0, 2 * np.pi, 0.1)\n",
        "print(x)\n",
        "y = np.cos(x)\n",
        "print(y)\n",
        "plt.plot(x,y)\n",
        "plt.show()\n",
        "plt.plot(x,np.sin(x))\n",
        "plt.plot(x,np.cos(x))\n",
        "plt.show()"
      ],
      "metadata": {
        "id": "GSH1pHARuu2E",
        "colab": {
          "base_uri": "https://localhost:8080/",
          "height": 1000
        },
        "outputId": "959a7e98-9a39-43c0-881f-f0723487259e"
      },
      "execution_count": null,
      "outputs": [
        {
          "output_type": "stream",
          "name": "stdout",
          "text": [
            "[0.  0.1 0.2 0.3 0.4 0.5 0.6 0.7 0.8 0.9 1.  1.1 1.2 1.3 1.4 1.5 1.6 1.7\n",
            " 1.8 1.9 2.  2.1 2.2 2.3 2.4 2.5 2.6 2.7 2.8 2.9 3.  3.1 3.2 3.3 3.4 3.5\n",
            " 3.6 3.7 3.8 3.9 4.  4.1 4.2 4.3 4.4 4.5 4.6 4.7 4.8 4.9 5.  5.1 5.2 5.3\n",
            " 5.4 5.5 5.6 5.7 5.8 5.9 6.  6.1 6.2]\n",
            "[ 1.          0.99500417  0.98006658  0.95533649  0.92106099  0.87758256\n",
            "  0.82533561  0.76484219  0.69670671  0.62160997  0.54030231  0.45359612\n",
            "  0.36235775  0.26749883  0.16996714  0.0707372  -0.02919952 -0.12884449\n",
            " -0.22720209 -0.32328957 -0.41614684 -0.5048461  -0.58850112 -0.66627602\n",
            " -0.73739372 -0.80114362 -0.85688875 -0.90407214 -0.94222234 -0.97095817\n",
            " -0.9899925  -0.99913515 -0.99829478 -0.98747977 -0.96679819 -0.93645669\n",
            " -0.89675842 -0.84810003 -0.79096771 -0.7259323  -0.65364362 -0.57482395\n",
            " -0.49026082 -0.40079917 -0.30733287 -0.2107958  -0.11215253 -0.01238866\n",
            "  0.08749898  0.18651237  0.28366219  0.37797774  0.46851667  0.55437434\n",
            "  0.63469288  0.70866977  0.77556588  0.83471278  0.88551952  0.92747843\n",
            "  0.96017029  0.98326844  0.9965421 ]\n"
          ]
        },
        {
          "output_type": "display_data",
          "data": {
            "text/plain": [
              "<Figure size 640x480 with 1 Axes>"
            ],
            "image/png": "[encoded data removed]"
          },
          "metadata": {}
        },
        {
          "output_type": "display_data",
          "data": {
            "text/plain": [
              "<Figure size 640x480 with 1 Axes>"
            ],
            "image/png": "[encoded data removed]"
          },
          "metadata": {}
        }
      ]
    }
  ]
}